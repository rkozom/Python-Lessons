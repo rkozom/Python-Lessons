{
 "cells": [
  {
   "cell_type": "markdown",
   "metadata": {},
   "source": [
    "# Домашнее задание по урокам 1-2"
   ]
  },
  {
   "cell_type": "markdown",
   "metadata": {},
   "source": [
    "## Задание 1"
   ]
  },
  {
   "cell_type": "markdown",
   "metadata": {},
   "source": [
    "Найти сумму цифр введенного пользователем трехзначного числа.\n",
    "\n",
    "При этом надо корректно обрабатывать ситуации, когда пользовател ввел не трехзначное число - в этом случае надо выдавать ошибку."
   ]
  },
  {
   "cell_type": "markdown",
   "metadata": {},
   "source": [
    "## Задание 2"
   ]
  },
  {
   "cell_type": "markdown",
   "metadata": {},
   "source": [
    "Написать программу, которая получает от пользователя целое число и выводит `True`, если введенное пользователем число попало в интервал $(-\\infty, 10] \\cup (13,24] \\cup (31, 42]$."
   ]
  },
  {
   "cell_type": "markdown",
   "metadata": {},
   "source": [
    "## Задание 3"
   ]
  },
  {
   "cell_type": "markdown",
   "metadata": {},
   "source": [
    "Написать программу, вычисляющую площадь треугольника по переданным пользователем длинам трех сторона $a$, $b$, $c$.\n",
    "\n",
    "Для вычисления площади можно использовать формулу Герона:\n",
    "$$S = \\sqrt{p(p-a)(p-b)(p-c)},$$\n",
    "где $p = \\frac{a+b+c}{2}$.\n",
    "\n",
    "Программа запрашивает у пользователя целые числа, а выводит в качестве результата вещественное число, являющееся площадью треугольника."
   ]
  }
 ],
 "metadata": {
  "kernelspec": {
   "display_name": "Python 3",
   "language": "python",
   "name": "python3"
  },
  "language_info": {
   "codemirror_mode": {
    "name": "ipython",
    "version": 3
   },
   "file_extension": ".py",
   "mimetype": "text/x-python",
   "name": "python",
   "nbconvert_exporter": "python",
   "pygments_lexer": "ipython3",
   "version": "3.7.0"
  }
 },
 "nbformat": 4,
 "nbformat_minor": 2
}
